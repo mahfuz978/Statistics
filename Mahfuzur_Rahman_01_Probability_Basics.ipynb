{
  "nbformat": 4,
  "nbformat_minor": 0,
  "metadata": {
    "colab": {
      "name": "Mahfuzur_Rahman_01_Probability_Basics.ipynb",
      "provenance": [],
      "collapsed_sections": [],
      "authorship_tag": "ABX9TyMnsHhyB33wVwOrpGdny9SK",
      "include_colab_link": true
    },
    "kernelspec": {
      "name": "python3",
      "display_name": "Python 3"
    }
  },
  "cells": [
    {
      "cell_type": "markdown",
      "metadata": {
        "id": "view-in-github",
        "colab_type": "text"
      },
      "source": [
        "<a href=\"https://colab.research.google.com/github/mahfuz978/TECH-I.S.-Stats/blob/main/Mahfuzur_Rahman_01_Probability_Basics.ipynb\" target=\"_parent\"><img src=\"https://colab.research.google.com/assets/colab-badge.svg\" alt=\"Open In Colab\"/></a>"
      ]
    },
    {
      "cell_type": "markdown",
      "metadata": {
        "id": "Wu4-J8gCICQg"
      },
      "source": [
        "# **Basics Of Probability**"
      ]
    },
    {
      "cell_type": "markdown",
      "metadata": {
        "id": "pn81Op3EHt8t"
      },
      "source": [
        "```\r\n",
        "P(A) = (Event Outcomes favorable to A)/Sample space\r\n",
        "```"
      ]
    },
    {
      "cell_type": "code",
      "metadata": {
        "colab": {
          "base_uri": "https://localhost:8080/"
        },
        "id": "JektuW5WHiXM",
        "outputId": "70754c95-2d4f-4928-cbc1-1a0ad827fe20"
      },
      "source": [
        "# probability of getting head or tail while tossing the coin\r\n",
        "h = 1/2\r\n",
        "t = 1/2\r\n",
        "print(f\"Probability of getting a head is {h*100} %\")\r\n",
        "print(f\"Probability of getting a tail is {t*100} %\")"
      ],
      "execution_count": 1,
      "outputs": [
        {
          "output_type": "stream",
          "text": [
            "Probability of getting a head is 50.0 %\n",
            "Probability of getting a tail is 50.0 %\n"
          ],
          "name": "stdout"
        }
      ]
    },
    {
      "cell_type": "code",
      "metadata": {
        "colab": {
          "base_uri": "https://localhost:8080/"
        },
        "id": "woIi8gyFIyrC",
        "outputId": "6c9ff39e-dd03-4028-9354-4711125a8cf1"
      },
      "source": [
        "# Probability of getting \" 1 \" while rolling the dice\r\n",
        "p1 = 1/6\r\n",
        "p2 = 1/6\r\n",
        "p3 = 1/6\r\n",
        "p4 = 1/6\r\n",
        "p5 = 1/6\r\n",
        "p6 = 1/6\r\n",
        "\r\n",
        "print(f\"Probability to get 1 while rolling a dice {p1*100} %\")"
      ],
      "execution_count": 2,
      "outputs": [
        {
          "output_type": "stream",
          "text": [
            "Probability to get 1 while rolling a dice 16.666666666666664 %\n"
          ],
          "name": "stdout"
        }
      ]
    },
    {
      "cell_type": "code",
      "metadata": {
        "id": "MLiu3SEpJlcE",
        "colab": {
          "base_uri": "https://localhost:8080/"
        },
        "outputId": "6b979e32-766d-49cb-d3a6-3b780974f9fe"
      },
      "source": [
        "# Example 3\r\n",
        "'''\r\n",
        "The data collected by an Advertisement agency has revealed that out of 2800\r\n",
        "visitors, 56 visitors clicked on 1 Advertisement, 30 clicked on 2 advertisements\r\n",
        "and 14 clicked on 3 advertisements and the remaining did not click on any\r\n",
        "advertisement.\r\n",
        "\r\n",
        "Calculate\r\n",
        "\r\n",
        "a) The probability that a visitor to the website will not click on any \r\n",
        "advertisement.\r\n",
        "\r\n",
        "b) The probability that a visitor to the website will click on an \r\n",
        "advertisement.\r\n",
        "\r\n",
        "c) The probability that a visitor to the website will click on more than \r\n",
        "one advertisement.\r\n",
        "'''\r\n",
        "num_visitors = 1800\r\n",
        "people_who_clicked = 1800 - 100\r\n",
        "total_avertisements = 56+30+14\r\n",
        "people_who_click_more_than_one = 30+14\r\n",
        "PE1 = round(people_who_clicked/num_visitors,4)\r\n",
        "PE2 = round(total_avertisements/num_visitors,4)\r\n",
        "PE3 = round(people_who_click_more_than_one/num_visitors,4)\r\n",
        "print(f'a. The probability that a visitor to the website will not click on any advertisement is {PE1} %')\r\n",
        "print(f'b. The probability that a visitor to the website will click on an advertisement is {PE2} %')\r\n",
        "print(f'c. The probability that a visitor to the website will click on more than one advertisement is {PE3} %')"
      ],
      "execution_count": 3,
      "outputs": [
        {
          "output_type": "stream",
          "text": [
            "a. The probability that a visitor to the website will not click on any advertisement is 0.9444 %\n",
            "b. The probability that a visitor to the website will click on an advertisement is 0.0556 %\n",
            "c. The probability that a visitor to the website will click on more than one advertisement is 0.0244 %\n"
          ],
          "name": "stdout"
        }
      ]
    },
    {
      "cell_type": "code",
      "metadata": {
        "colab": {
          "base_uri": "https://localhost:8080/"
        },
        "id": "aZpNj7uI0YFG",
        "outputId": "b84c914a-36b1-4659-9d33-a20a1932548d"
      },
      "source": [
        "# Permutations code\r\n",
        "import math\r\n",
        "n = 8\r\n",
        "k = 3\r\n",
        "# determine the permutations and print result\r\n",
        "permutations = math.pow(8,3)\r\n",
        "print(permutations)"
      ],
      "execution_count": 4,
      "outputs": [
        {
          "output_type": "stream",
          "text": [
            "512.0\n"
          ],
          "name": "stdout"
        }
      ]
    },
    {
      "cell_type": "code",
      "metadata": {
        "colab": {
          "base_uri": "https://localhost:8080/"
        },
        "id": "TXo04tY81s2R",
        "outputId": "ea198f78-9a8d-4d6b-bf22-61a2f9d6d431"
      },
      "source": [
        "# example 2\r\n",
        "n = 5\r\n",
        "k = 3\r\n",
        "permutations = math.factorial(n)/math.factorial(n-k)\r\n",
        "print(permutations,\"Possible Ways\")"
      ],
      "execution_count": 5,
      "outputs": [
        {
          "output_type": "stream",
          "text": [
            "60.0 Possible Ways\n"
          ],
          "name": "stdout"
        }
      ]
    },
    {
      "cell_type": "code",
      "metadata": {
        "colab": {
          "base_uri": "https://localhost:8080/"
        },
        "id": "PeABQZZB2qfN",
        "outputId": "7ec6d669-07de-447a-eb67-d590474cf24a"
      },
      "source": [
        "# combinantions code\r\n",
        "n = 8\r\n",
        "k = 3\r\n",
        "# determine the combinantions and print\r\n",
        "permutations  = math.factorial(n)/(math.factorial(n-k)*math.factorial(k))\r\n",
        "print(permutations)"
      ],
      "execution_count": 6,
      "outputs": [
        {
          "output_type": "stream",
          "text": [
            "56.0\n"
          ],
          "name": "stdout"
        }
      ]
    },
    {
      "cell_type": "markdown",
      "metadata": {
        "id": "kYw8zbmJ3uwp"
      },
      "source": [
        "# Joint Probability"
      ]
    },
    {
      "cell_type": "code",
      "metadata": {
        "colab": {
          "base_uri": "https://localhost:8080/"
        },
        "id": "U4djU-7u30tP",
        "outputId": "7cce044f-4836-4175-f6a7-d53e81a93494"
      },
      "source": [
        "# example\r\n",
        "'''\r\n",
        "what is the probability to get NUmber 2 and in red color?\r\n",
        "52 cars in a deck\r\n",
        "total 4 card for #2 cards, when we filter those 4 card which is number 2 with red colour\r\n",
        "we will have only 2 card with number 2\r\n",
        "Probability(2 and red) = 2/52 = 1/26\r\n",
        "'''\r\n",
        "prob2_red = 2/52\r\n",
        "print(\"Probability for getting 2 red is %1.4f percent\" % prob2_red)"
      ],
      "execution_count": 7,
      "outputs": [
        {
          "output_type": "stream",
          "text": [
            "Probability for getting 2 red is 0.0385 percent\n"
          ],
          "name": "stdout"
        }
      ]
    },
    {
      "cell_type": "code",
      "metadata": {
        "colab": {
          "base_uri": "https://localhost:8080/"
        },
        "id": "iF5R12c35vqY",
        "outputId": "dd90714b-362f-4ede-d40a-00724407f45d"
      },
      "source": [
        "# Example 2 (Joint Probability)\r\n",
        "'''\r\n",
        "At a popular company service center, a total of 100 complaints were received. \r\n",
        "80 customers complained about late delivery of the items and 60 complained \r\n",
        "about poor product quality.\r\n",
        "\r\n",
        "Calculate the probability that a customer complaint will be about both product \r\n",
        "quality and late delivery.\r\n",
        "\r\n",
        "Let\r\n",
        "\r\n",
        "L = Late delivery\r\n",
        "\r\n",
        "Q = Poor quality\r\n",
        "\r\n",
        "n(L) = Number of cases in favour of L = 80\r\n",
        "\r\n",
        "n(Q) = Number of cases in favour of Q = 60\r\n",
        "\r\n",
        "N = Total Number of complaints = 100\r\n",
        "\r\n",
        "'''\r\n",
        "both_complaints = (80 + 60) - 100\r\n",
        "total_complaints = 100\r\n",
        "PE4 = round(both_complaints/total_complaints,4)\r\n",
        "print('Probability that a customer complaint will \\n\\\r\n",
        "be about both, product quality and late delivery is about %1.3f percent' % PE4)"
      ],
      "execution_count": 8,
      "outputs": [
        {
          "output_type": "stream",
          "text": [
            "Probability that a customer complaint will \n",
            "be about both, product quality and late delivery is about 0.400 percent\n"
          ],
          "name": "stdout"
        }
      ]
    },
    {
      "cell_type": "markdown",
      "metadata": {
        "id": "1_LEoJoaScHa"
      },
      "source": [
        "## Independent event\r\n",
        "Two events, A and B are independent if and only if P(A | B) = P(A),\r\n",
        "\r\n",
        "where\r\n",
        "\r\n",
        "P(A|B) is the conditional probability of A given B\r\n",
        "\r\n",
        "P(A) is the marginal probability of A"
      ]
    },
    {
      "cell_type": "code",
      "metadata": {
        "colab": {
          "base_uri": "https://localhost:8080/"
        },
        "id": "1NAHiT55SgdP",
        "outputId": "e51b7596-d845-401c-c5e0-62eaf5cdf772"
      },
      "source": [
        "# example \r\n",
        "'''\r\n",
        "What is the probability of getting a \"6\" in two consecutive trials when rolling a dice?\r\n",
        "\r\n",
        "For each roll of a dice:\r\n",
        "\r\n",
        "Favorable events = {\"6\"}\r\n",
        "\r\n",
        "Total number of outcomes = {\"1\",\"2\",\"3\",\"4\",\"5\",\"6\"}\r\n",
        "\r\n",
        "Let P1 be the probability of getting a \"6\" in the first roll of dice . Let P2 be the probability of getting a \"6\" in the second roll of dice.\r\n",
        "\r\n",
        "Since first roll of dice does not influence the second roll of dice, these events are independent.\r\n",
        "'''\r\n",
        "\r\n",
        "first_roll = 1/6\r\n",
        "second_roll = 1/6\r\n",
        "PE5 = first_roll*second_roll\r\n",
        "print('Getting a 6 in two consecutive rolls of dice is %1.4f' % PE5)\r\n"
      ],
      "execution_count": 9,
      "outputs": [
        {
          "output_type": "stream",
          "text": [
            "Getting a 6 in two consecutive rolls of dice is 0.0278\n"
          ],
          "name": "stdout"
        }
      ]
    }
  ]
}