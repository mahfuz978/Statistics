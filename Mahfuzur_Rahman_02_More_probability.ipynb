{
  "nbformat": 4,
  "nbformat_minor": 0,
  "metadata": {
    "colab": {
      "name": "Mahfuzur_Rahman_02_More_probability.ipynb",
      "provenance": [],
      "collapsed_sections": [],
      "authorship_tag": "ABX9TyNxCrnLXqzhSupEw9qykY1R",
      "include_colab_link": true
    },
    "kernelspec": {
      "name": "python3",
      "display_name": "Python 3"
    }
  },
  "cells": [
    {
      "cell_type": "markdown",
      "metadata": {
        "id": "view-in-github",
        "colab_type": "text"
      },
      "source": [
        "<a href=\"https://colab.research.google.com/github/mahfuz978/TECH-I.S.-Stats/blob/main/Mahfuzur_Rahman_02_More_probability.ipynb\" target=\"_parent\"><img src=\"https://colab.research.google.com/assets/colab-badge.svg\" alt=\"Open In Colab\"/></a>"
      ]
    },
    {
      "cell_type": "code",
      "metadata": {
        "colab": {
          "base_uri": "https://localhost:8080/"
        },
        "id": "MItEQlhIoC3Q",
        "outputId": "bb83aabe-7371-4599-b5e1-2e0d69d594ff"
      },
      "source": [
        "\"\"\"\r\n",
        "The data collected by an Advertisement agency has revealed that out of 2800\r\n",
        "visitors, 56 visitors clicked on 1 Advertisement, 30 clicked on 2 \r\n",
        "advertisements and 14 clicked on 3 advertisements and the remaining did not \r\n",
        "click on any advertisement.\r\n",
        "\r\n",
        "Calculate\r\n",
        "\r\n",
        "a) The probability that a visitor to the website will not click on any \r\n",
        "advertisement.\r\n",
        "b) The probability that a visitor to the website will click on an advertisement.\r\n",
        "c) The probability that a visitor to the website will click on more than one \r\n",
        "advertisement.\r\n",
        "\r\n",
        "Here 56 visitors click on 1 advertisement\r\n",
        "Here 30 visitors click on 2 advertisements\r\n",
        "Here 14 visitors click on 3 advertisements\r\n",
        "Hence, the total number of customers clicking on any advertisement is 100\r\n",
        "\"\"\"\r\n",
        "FE1 = 2800 - 100\r\n",
        "TE = 2800\r\n",
        "PE1 = round(FE1/TE,4)\r\n",
        "print('a. The probability that a visitor to the website will not click on any advertisement\\nis:')\r\n",
        "print(PE1*100,\"%\")"
      ],
      "execution_count": 1,
      "outputs": [
        {
          "output_type": "stream",
          "text": [
            "a. The probability that a visitor to the website will not click on any advertisement\n",
            "is:\n",
            "96.43 %\n"
          ],
          "name": "stdout"
        }
      ]
    },
    {
      "cell_type": "code",
      "metadata": {
        "colab": {
          "base_uri": "https://localhost:8080/"
        },
        "id": "ln8Dm_Q2pPov",
        "outputId": "f4c6ff81-1c36-4a3d-8dde-9f7e1106763e"
      },
      "source": [
        "FE2 = 100\r\n",
        "TE = 2800\r\n",
        "PE2 = (FE2/TE)\r\n",
        "print('b. The probability that a visitor to the website will click on an advertisement \\nis:')\r\n",
        "print('%1.2f' % (PE2*100), \"%\")"
      ],
      "execution_count": 2,
      "outputs": [
        {
          "output_type": "stream",
          "text": [
            "b. The probability that a visitor to the website will click on an advertisement \n",
            "is:\n",
            "3.57 %\n"
          ],
          "name": "stdout"
        }
      ]
    },
    {
      "cell_type": "code",
      "metadata": {
        "colab": {
          "base_uri": "https://localhost:8080/"
        },
        "id": "13pAf8uZvpfz",
        "outputId": "6f412325-2753-484d-ab24-68add7c01517"
      },
      "source": [
        "FE3 = 44\r\n",
        "PE3 = (FE3/TE)\r\n",
        "print('c. The probability that a visitor to the website will click on more than one advertisement \\nis:')\r\n",
        "print('%1.2f' % (PE3*100), \"%\")"
      ],
      "execution_count": 3,
      "outputs": [
        {
          "output_type": "stream",
          "text": [
            "c. The probability that a visitor to the website will click on more than one advertisement \n",
            "is:\n",
            "1.57 %\n"
          ],
          "name": "stdout"
        }
      ]
    },
    {
      "cell_type": "code",
      "metadata": {
        "colab": {
          "base_uri": "https://localhost:8080/"
        },
        "id": "TjwchZ3BymiO",
        "outputId": "14543b34-d915-498c-8570-1d345a9f24c9"
      },
      "source": [
        "'''\r\n",
        "At a popular company service center, a total of 100 complaints were received. 80 customers complained about late delivery of the items and 60 complained about poor product quality.\r\n",
        "\r\n",
        "a) Calculate the probability that a customer complaint will be about both product quality and late delivery.\r\n",
        "b) What is the probability that a complaint will be only about late delivery?\r\n",
        "\r\n",
        "Let\r\n",
        "\r\n",
        "L = Late delivery\r\n",
        "Q = Poor quality\r\n",
        "n(L) = Number of cases in favour of L = 80\r\n",
        "n(Q) = Number of cases in favour of Q = 60\r\n",
        "N = Total Number of complaints = 100\r\n",
        "'''\r\n",
        "FE4 = ((80 + 60) - 100) \r\n",
        "TE  = 100\r\n",
        "PE4 = (FE4 / TE) \r\n",
        "print('a.Probability that a customer complaint will\\n be about both product\\\r\n",
        "quality and late delivery is : %1.2f' % (PE4*100),\"%\")\r\n"
      ],
      "execution_count": 4,
      "outputs": [
        {
          "output_type": "stream",
          "text": [
            "a.Probability that a customer complaint will\n",
            " be about both productquality and late delivery is : 40.00 %\n"
          ],
          "name": "stdout"
        }
      ]
    },
    {
      "cell_type": "code",
      "metadata": {
        "id": "AGzeb6BB0r6u",
        "colab": {
          "base_uri": "https://localhost:8080/"
        },
        "outputId": "64d9b721-f556-400f-8444-0eedb08e609b"
      },
      "source": [
        "FE5 = 60\r\n",
        "TE = 100\r\n",
        "PE5 = (FE5/TE)\r\n",
        "PE6 = 1-PE5\r\n",
        "\r\n",
        "print('b.Probability that a customer complaint will\\n be about \\\r\n",
        "late delivery is : %1.2f' % (PE6*100),\"%\")\r\n"
      ],
      "execution_count": 5,
      "outputs": [
        {
          "output_type": "stream",
          "text": [
            "b.Probability that a customer complaint will\n",
            " be about late delivery is : 40.00 %\n"
          ],
          "name": "stdout"
        }
      ]
    },
    {
      "cell_type": "code",
      "metadata": {
        "id": "ovRJ8Uia6IFw",
        "colab": {
          "base_uri": "https://localhost:8080/"
        },
        "outputId": "f85ce091-79b2-49fb-bada-fe6e1bb76e08"
      },
      "source": [
        "# FE6 is the number of people who planned and actually placed an order for Apple iPhone Xs Max\r\n",
        "FE6 = 400\r\n",
        "TE = 2000\r\n",
        "PE7 = round(FE6 / TE,4)\r\n",
        "print('Joint probability of the people who planned to purchase and actually placed an order is %1.4f ' % PE7)\r\n"
      ],
      "execution_count": 6,
      "outputs": [
        {
          "output_type": "stream",
          "text": [
            "Joint probability of the people who planned to purchase and actually placed an order is 0.2000 \n"
          ],
          "name": "stdout"
        }
      ]
    },
    {
      "cell_type": "code",
      "metadata": {
        "colab": {
          "base_uri": "https://localhost:8080/"
        },
        "id": "QXU4uGAnFXiI",
        "outputId": "ee2669d6-eb0d-45ea-b046-ff8d08a4b587"
      },
      "source": [
        "# Let P  = P(planned to purchase Apple iPhone Xs Max)\r\n",
        "#     P1 = P(Planned to purchase Apple iPhone Xs Max and placed an order) \r\n",
        "#     P2 = P(Planned to purchase Apple iPhone Xs Max and not placed an order) \r\n",
        "\r\n",
        "P1 = 400/2000\r\n",
        "P2 = 100/2000\r\n",
        "P = P1 + P2\r\n",
        "print('Marginal probability of the people who planned to purchase is %1.4f'%P)"
      ],
      "execution_count": 7,
      "outputs": [
        {
          "output_type": "stream",
          "text": [
            "Marginal probability of the people who planned to purchase is 0.2500\n"
          ],
          "name": "stdout"
        }
      ]
    },
    {
      "cell_type": "code",
      "metadata": {
        "colab": {
          "base_uri": "https://localhost:8080/"
        },
        "id": "4x16q43KGM4W",
        "outputId": "d1f6d8d5-dfa7-4a6e-ecb7-12bb02ff450e"
      },
      "source": [
        "'''\r\n",
        "a. What is the probability of A | B?\r\n",
        "b. What is the probability of A | B'?\r\n",
        "c. What is the probability of A' | B'?\r\n",
        "d. Are events A and B independent?\r\n",
        "'''\r\n",
        "A = 10/30\r\n",
        "B = 20/30\r\n",
        "A_prime = 40/60\r\n",
        "\r\n",
        "print('the probability of A | B is:', A)\r\n",
        "print('the probability of A | B\" is:', B)\r\n",
        "print('the probability of A\" | B\" is:', A_prime )\r\n",
        "print('Are A and B independent? Ans: ', A == 30)"
      ],
      "execution_count": 8,
      "outputs": [
        {
          "output_type": "stream",
          "text": [
            "the probability of A | B is: 0.3333333333333333\n",
            "the probability of A | B\" is: 0.6666666666666666\n",
            "the probability of A\" | B\" is: 0.6666666666666666\n",
            "Are A and B independent? Ans:  False\n"
          ],
          "name": "stdout"
        }
      ]
    },
    {
      "cell_type": "code",
      "metadata": {
        "id": "eic3Ie0iHQ02",
        "colab": {
          "base_uri": "https://localhost:8080/"
        },
        "outputId": "ff8b3d2b-1530-4700-99b7-f335ecd5dfc4"
      },
      "source": [
        "P1 = 500/2000 # P1 = P(Planned to purchase)\r\n",
        "P2 = 600/2000 # P2 = P(Placed an order)\r\n",
        "P3 = 400/2000 # P3 = P(Planned to purchase Apple iPhone Xs Max and placed an order)\r\n",
        "\r\n",
        "P = P1 + P2 -P3 # P3 = P(Planned to purchase Apple iPhone Xs Max and placed an order)\r\n",
        "print('Planned to purchase Apple iPhone Xs Max or placed an order is %1.4f' %P)"
      ],
      "execution_count": 9,
      "outputs": [
        {
          "output_type": "stream",
          "text": [
            "Planned to purchase Apple iPhone Xs Max or placed an order is 0.3500\n"
          ],
          "name": "stdout"
        }
      ]
    },
    {
      "cell_type": "code",
      "metadata": {
        "colab": {
          "base_uri": "https://localhost:8080/"
        },
        "id": "dhP-eFhbFoKO",
        "outputId": "1c77285c-87a8-4fb4-df7b-7b30b5d41e58"
      },
      "source": [
        "# P1 = P(Actually placed an order | Planned to purchase)\r\n",
        "# P2 = Planned to purchase and actually placed an order\r\n",
        "# P3 = Planned to purchase\r\n",
        "P1 = (400/2000)/(500/2000)\r\n",
        "print('P(Actually Placed an order| Planned to purchase) is %1.4f' %P1)"
      ],
      "execution_count": 10,
      "outputs": [
        {
          "output_type": "stream",
          "text": [
            "P(Actually Placed an order| Planned to purchase) is 0.8000\n"
          ],
          "name": "stdout"
        }
      ]
    },
    {
      "cell_type": "code",
      "metadata": {
        "colab": {
          "base_uri": "https://localhost:8080/"
        },
        "id": "_Ay7gGw1JN-q",
        "outputId": "b012983d-eafa-4480-db1d-8ae461ff186a"
      },
      "source": [
        "# P1 = P(Default and Divorced)\r\n",
        "P1 = 13/50\r\n",
        "# P2 = P(Divorced)\r\n",
        "P2 = 50/1000\r\n",
        "#P3  = P(Default | Divorced) = P(Default and Divorced) / P(Divorced)\r\n",
        "P3 = (13/1000)/(50/1000)\r\n",
        "print('(Default | Divorced) is %1.1f'%(P3*100),\"%\")"
      ],
      "execution_count": 11,
      "outputs": [
        {
          "output_type": "stream",
          "text": [
            "(Default | Divorced) is 26.0 %\n"
          ],
          "name": "stdout"
        }
      ]
    },
    {
      "cell_type": "code",
      "metadata": {
        "colab": {
          "base_uri": "https://localhost:8080/"
        },
        "id": "VKyz5F35KIFb",
        "outputId": "bf5a3eed-e9d6-4f58-a3f8-e2e95723209c"
      },
      "source": [
        "'''\r\n",
        "What is the probability of getting a \"6\" in two consecutive trials when rolling \r\n",
        "a dice?\r\n",
        "\r\n",
        "For each roll of a dice:\r\n",
        "\r\n",
        "Favorable events = {\"6\"}\r\n",
        "Total number of outcomes = {\"1\",\"2\",\"3\",\"4\",\"5\",\"6\"}\r\n",
        "Let P1 be the probability of getting a \"6\" in the first roll of dice.\r\n",
        "Let P2 be the probability of getting a \"6\" in the second roll of dice.\r\n",
        "Since first roll of dice does not influence the second roll of dice, these \r\n",
        "events are independent.\r\n",
        "'''\r\n",
        "\r\n",
        "'''\r\n",
        "Practice Exercise 2\r\n",
        "What is the probability of getting a 2 on the face of three dices when they \r\n",
        "are rolled? Hint: A dice has six faces and contains values 1,2,3,4,5,6\r\n",
        "'''\r\n",
        "# 3 dices means 18 faces\r\n",
        "# to get a 2 there are 3 chances \r\n",
        "P = 3/18\r\n",
        "print(round(P,4))\r\n",
        "\r\n"
      ],
      "execution_count": 12,
      "outputs": [
        {
          "output_type": "stream",
          "text": [
            "0.1667\n"
          ],
          "name": "stdout"
        }
      ]
    },
    {
      "cell_type": "code",
      "metadata": {
        "id": "NXZoRLYWTnyU",
        "colab": {
          "base_uri": "https://localhost:8080/"
        },
        "outputId": "3b76b071-fa48-4be2-e686-40d0e03ee2a5"
      },
      "source": [
        "'''\r\n",
        "Practice Exercise 3\r\n",
        "You throw a die three times, what is the probability that one or more of your \r\n",
        "throws will come up with a 1? Hint: You need to calculate the probability of \r\n",
        "getting a 1 on at least one of the throws.\r\n",
        "'''\r\n",
        "P1 = 1 / 6\r\n",
        "P2 = 1 / 6\r\n",
        "P3 = 1 / 6\r\n",
        "\r\n",
        "P = P1*P2*P3\r\n",
        "print('Getting a 1 in three consecutive rolls of dice is %1.4f' % P)"
      ],
      "execution_count": 13,
      "outputs": [
        {
          "output_type": "stream",
          "text": [
            "Getting a 1 in three consecutive rolls of dice is 0.0046\n"
          ],
          "name": "stdout"
        }
      ]
    },
    {
      "cell_type": "code",
      "metadata": {
        "colab": {
          "base_uri": "https://localhost:8080/",
          "height": 53
        },
        "id": "oL71i8qQCNr6",
        "outputId": "c70a9721-ec96-46fc-ec9c-03f236916a2c"
      },
      "source": [
        "'''\r\n",
        "Practice Exercise 4\r\n",
        "The following table describes loan default status at a Financial Institution \r\n",
        "and their Occupation status. Calculate the Ocupation status that has maximum \r\n",
        "joint probability of default.\r\n",
        "'''"
      ],
      "execution_count": 14,
      "outputs": [
        {
          "output_type": "execute_result",
          "data": {
            "application/vnd.google.colaboratory.intrinsic+json": {
              "type": "string"
            },
            "text/plain": [
              "'\\nPractice Exercise 4\\nThe following table describes loan default status at a Financial Institution \\nand their Occupation status. Calculate the Ocupation status that has maximum \\njoint probability of default.\\n'"
            ]
          },
          "metadata": {
            "tags": []
          },
          "execution_count": 14
        }
      ]
    },
    {
      "cell_type": "code",
      "metadata": {
        "colab": {
          "base_uri": "https://localhost:8080/"
        },
        "id": "nwr6GzAfDicv",
        "outputId": "9d25afbb-e322-48b4-c1bd-5b665ab7a603"
      },
      "source": [
        "'''\r\n",
        "Practice Exercise 5\r\n",
        "In the above contingency table, what is the conditional probability that\r\n",
        "\r\n",
        "a. What is the probability of Loan defaulted?\r\n",
        "b. What is the conditional probability of default, given the occupation \r\n",
        "category Self Employed?\r\n",
        "'''\r\n",
        "P1 = 80/4500\r\n",
        "P2 = 320/4500\r\n",
        "print('b:',round(400/4500, 4))\r\n",
        "print('b:', P1/P2)\r\n"
      ],
      "execution_count": 15,
      "outputs": [
        {
          "output_type": "stream",
          "text": [
            "b: 0.0889\n",
            "b: 0.25\n"
          ],
          "name": "stdout"
        }
      ]
    },
    {
      "cell_type": "code",
      "metadata": {
        "id": "V85WEYfWK5cG",
        "colab": {
          "base_uri": "https://localhost:8080/"
        },
        "outputId": "5ff12089-ff2d-4171-ba7a-968daab3ed71"
      },
      "source": [
        "# Let S_A_B = P(A ∩ B)\r\n",
        "S_A_B = 3/10 \r\n",
        "print('Support(Bread and Milk)  is %1.4f' % S_A_B)\r\n"
      ],
      "execution_count": 16,
      "outputs": [
        {
          "output_type": "stream",
          "text": [
            "Support(Bread and Milk)  is 0.3000\n"
          ],
          "name": "stdout"
        }
      ]
    },
    {
      "cell_type": "code",
      "metadata": {
        "colab": {
          "base_uri": "https://localhost:8080/"
        },
        "id": "e5q5A5jYP00t",
        "outputId": "2967b798-325f-433a-9e10-9c45205edb86"
      },
      "source": [
        "print('Assume C_A_B be the confidence of purchasing a item B') \r\n",
        "print('\\tgiven the item A is purchased.')\r\n",
        "print('S_A_B =  P(A ∩ B) as discussed earlier.')\r\n",
        "P1 = 9/10 # = P(A). 9 invoices have item Bread out of 10\r\n",
        "C_A_B = S_A_B/P1\r\n",
        "print('Confidence(Bread and Milk) is %1.4f'% C_A_B)"
      ],
      "execution_count": 17,
      "outputs": [
        {
          "output_type": "stream",
          "text": [
            "Assume C_A_B be the confidence of purchasing a item B\n",
            "\tgiven the item A is purchased.\n",
            "S_A_B =  P(A ∩ B) as discussed earlier.\n",
            "Confidence(Bread and Milk) is 0.3333\n"
          ],
          "name": "stdout"
        }
      ]
    },
    {
      "cell_type": "code",
      "metadata": {
        "colab": {
          "base_uri": "https://localhost:8080/"
        },
        "id": "CKNnK1cHP6JH",
        "outputId": "ad70a144-53c9-4035-fa4d-02a1a65bcefa"
      },
      "source": [
        "print('Assume L_A_B be the Lift of purchasing a item B') \r\n",
        "print('\\tgiven the item A is purchased.')\r\n",
        "print('S_A_B =  P(A ∩ B) as discussed earlier.')\r\n",
        "print('P1    = 0.9 as shown above')\r\n",
        "\r\n",
        "P2 = 4/10\r\n",
        "L_A_B = S_A_B/(P1*P2)\r\n",
        "print('Lift(Bread a∩d Milk)  is %1.4f' % L_A_B)"
      ],
      "execution_count": 18,
      "outputs": [
        {
          "output_type": "stream",
          "text": [
            "Assume L_A_B be the Lift of purchasing a item B\n",
            "\tgiven the item A is purchased.\n",
            "S_A_B =  P(A ∩ B) as discussed earlier.\n",
            "P1    = 0.9 as shown above\n",
            "Lift(Bread a∩d Milk)  is 0.8333\n"
          ],
          "name": "stdout"
        }
      ]
    },
    {
      "cell_type": "code",
      "metadata": {
        "id": "Qp_dsWIOvTRP",
        "colab": {
          "base_uri": "https://localhost:8080/"
        },
        "outputId": "7a05999b-3712-42cf-de19-664803e1c284"
      },
      "source": [
        "# Let P1 = P(D|X)\r\n",
        "# Let P2 = P(X)\r\n",
        "# Let P3 = P(D∣X)P(D)+P(D∣Y)P(D)+P(D∣Z)P(D)\r\n",
        "# Let P  = P(X|D) = (P1 * P2) / P3\r\n",
        "\r\n",
        "P1 = 0.04\r\n",
        "P2 = 0.75\r\n",
        "P3 = 0.75*0.04+0.15*0.06+0.10*0.08\r\n",
        "P = round((P1*P2)/P3,4)\r\n",
        "print('P(X|D)  is %1.4f' % P)"
      ],
      "execution_count": 19,
      "outputs": [
        {
          "output_type": "stream",
          "text": [
            "P(X|D)  is 0.6383\n"
          ],
          "name": "stdout"
        }
      ]
    },
    {
      "cell_type": "code",
      "metadata": {
        "colab": {
          "base_uri": "https://localhost:8080/"
        },
        "id": "XGzHH_TdWAyu",
        "outputId": "6df706be-0da3-4390-dd0d-027bd9e56ebc"
      },
      "source": [
        "## Let P = P(T∣A)\r\n",
        "P = (0.9*0.01)/((0.9*0.01)+(0.08*0.99))\r\n",
        "print('The probability of a women having cancer, given a positive test result is %1.4f' % P)"
      ],
      "execution_count": 20,
      "outputs": [
        {
          "output_type": "stream",
          "text": [
            "The probability of a women having cancer, given a positive test result is 0.1020\n"
          ],
          "name": "stdout"
        }
      ]
    },
    {
      "cell_type": "code",
      "metadata": {
        "id": "LZ4yTr9GXkCd",
        "colab": {
          "base_uri": "https://localhost:8080/"
        },
        "outputId": "c81ec4d2-466a-412b-a8d1-753d8e99f84c"
      },
      "source": [
        "'''\r\n",
        "Example 11\r\n",
        "A1 Electronic World is considering marketing a new model of televisions. In the \r\n",
        "past, 40% of the new model televisions have been successful, and 60% have been \r\n",
        "unsuccessful. Before introducing the new model television, the marketing \r\n",
        "research department conducts an extensive study and releases a report, either \r\n",
        "favorble or unfavorable.\r\n",
        "\r\n",
        "In the past, 80% of the successful new-model televisions had received favorable \r\n",
        "market reports, and 30% of the unsuccessful new-model televisions had received \r\n",
        "favorable reports. For the new model of television under consideration, the \r\n",
        "marketing research department has issued a favorable report.\r\n",
        "\r\n",
        "What is the probability that the television is successful given a favorable report?\r\n",
        "P(S) = 0.40\r\n",
        "P(US) = 0.60\r\n",
        "P(F|S)= 0.80 Favorable Report received when the new model is successful\r\n",
        "P(F|US)= 0.20 Favorable Report received when the new model is unsuccessful\r\n",
        "'''\r\n",
        "# Let P = P(S∣F)\r\n",
        "P = (0.80 * 0.40)/ ((0.80 * 0.40) + (0.30 * 0.60))\r\n",
        "print('The probability that the television is successful given a favorable report is %1.2f' % (P*100), \"%\")\r\n"
      ],
      "execution_count": 21,
      "outputs": [
        {
          "output_type": "stream",
          "text": [
            "The probability that the television is successful given a favorable report is 64.00 %\n"
          ],
          "name": "stdout"
        }
      ]
    },
    {
      "cell_type": "code",
      "metadata": {
        "colab": {
          "base_uri": "https://localhost:8080/"
        },
        "id": "JY0NfPG6dabG",
        "outputId": "cd622f2c-5a7a-47b5-9930-e9818aa4f46c"
      },
      "source": [
        "'''\r\n",
        "Practice Exercise 5\r\n",
        "The following contingency table list the probabilities of a person having a \r\n",
        "certain disease and the result of the diagnostic test conducted to determine \r\n",
        "whether the person is having the disease.\r\n",
        "\r\n",
        "Let D be the event of having the disease and the event D' not having the \r\n",
        "disease. Let T be the event of having the test result positive and T' be the \r\n",
        "event of not having the test result positive.\r\n",
        "\r\n",
        "P(D) = 0.03 P(D') = 0.97 P(T|D) = 0.90 P(T|D') = 0.01\r\n",
        "\r\n",
        "What is the probability that the disease is acually present given a positive \r\n",
        "test result?\r\n",
        "\r\n",
        "Hint: Use Bayes theorem\r\n",
        "'''\r\n",
        "# Let P = P(D|T)\r\n",
        "P = (0.90 * 0.03)/ ((0.90 * 0.03) + (0.97 * 0.01))\r\n",
        "print('The probability that the the disease is acually present given a \\\r\n",
        "positive test result is %1.2f' % (P*100), \"%\")\r\n"
      ],
      "execution_count": 22,
      "outputs": [
        {
          "output_type": "stream",
          "text": [
            "The probability that the the disease is acually present given a positive test result is 73.57 %\n"
          ],
          "name": "stdout"
        }
      ]
    },
    {
      "cell_type": "code",
      "metadata": {
        "colab": {
          "base_uri": "https://localhost:8080/"
        },
        "id": "phZBczPDe5_-",
        "outputId": "eb6e2b78-b15f-4022-a0c4-bb5fc1dca9b0"
      },
      "source": [
        "'''\r\n",
        "1) A1 Construction company is determining whether it should submit a bid for a \r\n",
        "new shopping mall. In the past, A1's main competitor, Pyramid Construction \r\n",
        "company has submitted bids 70% of the time. If Pyramid Construction company \r\n",
        "does not bid on a job, the probability that A1 Construction Company will get \r\n",
        "the job is 0.50.\r\n",
        "\r\n",
        "If the Pyramid Construction company bids on a job, the probability that A1 \r\n",
        "Construction company will get the job is 0.25.\r\n",
        "\r\n",
        "a. If A1 Construction company gets the job, what is the probability that \r\n",
        "Pyramid Construction company did not bid?\r\n",
        "\r\n",
        "b. What is the probability that A1 Construction company will get the job?\r\n",
        "\r\n",
        "Hint: Use Bayes theorem\r\n",
        "\r\n",
        "2) From the table in Exercise 4, answer the following:\r\n",
        "\r\n",
        "a. What is the probability of Loan non-defaulted?\r\n",
        "b. What is the conditional probability of non-default, given the occupation \r\n",
        "category- Employed in Government Sector?\r\n",
        "3) You flip a coin and roll a six-sided dice, what is the probability that the \r\n",
        "coin comes up tail and the dice comes up with 6?\r\n",
        "'''\r\n",
        "P = P = (0.7 * 0.5)/ ((0.7 * 0.5) + ( 0.3* 0.25))\r\n",
        "print(f'A: If A1 Construction company gets the job, the probability that \\\r\n",
        "Pyramid Construction company did not bid is {round(P*100, 2)} %')\r\n",
        "print()"
      ],
      "execution_count": 23,
      "outputs": [
        {
          "output_type": "stream",
          "text": [
            "A: If A1 Construction company gets the job, the probability that Pyramid Construction company did not bid is 82.35 %\n",
            "\n"
          ],
          "name": "stdout"
        }
      ]
    },
    {
      "cell_type": "code",
      "metadata": {
        "colab": {
          "base_uri": "https://localhost:8080/"
        },
        "id": "dq1B9B1hiBxS",
        "outputId": "4a175fe2-1781-41ed-d5e1-d3a673e14719"
      },
      "source": [
        "'''\r\n",
        "Example 1\r\n",
        "A LED bulb manufacturing company regularly conducts quality checks at specified \r\n",
        "periods on the products it manufactures. Historically, the failure rate for LED \r\n",
        "light bulbs that the company manufactures is 5%. Suppose a random sample of 10 \r\n",
        "LED light bulbs is selected. What is the probability that\r\n",
        "\r\n",
        "a) None of the LED bulbs are defective?\r\n",
        "b) Exactly one of the LED bulbs is defective?\r\n",
        "c) Two or fewer of the LED bulbs are defective?\r\n",
        "d) Three or more of the LED bulbs are defective\r\n",
        "'''\r\n",
        "import numpy as np\r\n",
        "import pandas as pd\r\n",
        "import scipy.stats as stats\r\n",
        "import matplotlib.pyplot as plt\r\n",
        "\r\n",
        "p = .05 # failure rate for LED light bulbsthat the company manufactures is 5%\r\n",
        "n = 10 # sample size\r\n",
        "k = np.arange(0,11) # an array of quantiles\r\n",
        "\r\n",
        "binomial =  stats.binom.pmf(k,n,p)\r\n",
        "print(binomial)"
      ],
      "execution_count": 24,
      "outputs": [
        {
          "output_type": "stream",
          "text": [
            "[5.98736939e-01 3.15124705e-01 7.46347985e-02 1.04750594e-02\n",
            " 9.64808106e-04 6.09352488e-05 2.67259863e-06 8.03789063e-08\n",
            " 1.58642578e-09 1.85546875e-11 9.76562500e-14]\n"
          ],
          "name": "stdout"
        }
      ]
    },
    {
      "cell_type": "code",
      "metadata": {
        "colab": {
          "base_uri": "https://localhost:8080/"
        },
        "id": "F-KWCKnMc5Mi",
        "outputId": "ce032566-ecd2-4e63-8898-9d27312e64fb"
      },
      "source": [
        "print('a) None of the LED bulbs are defective? is %1.4f' %binomial[0])"
      ],
      "execution_count": 25,
      "outputs": [
        {
          "output_type": "stream",
          "text": [
            "a) None of the LED bulbs are defective? is 0.5987\n"
          ],
          "name": "stdout"
        }
      ]
    },
    {
      "cell_type": "code",
      "metadata": {
        "colab": {
          "base_uri": "https://localhost:8080/"
        },
        "id": "9MmV_OJYdPzr",
        "outputId": "7b451f5c-16df-4dfb-c9de-7dc1ec345660"
      },
      "source": [
        "print('b) Exactly one of the LED bulbs is defective? is %1.4f' %binomial[1])"
      ],
      "execution_count": 26,
      "outputs": [
        {
          "output_type": "stream",
          "text": [
            "b) Exactly one of the LED bulbs is defective? is 0.3151\n"
          ],
          "name": "stdout"
        }
      ]
    },
    {
      "cell_type": "code",
      "metadata": {
        "colab": {
          "base_uri": "https://localhost:8080/"
        },
        "id": "HOgtqZLPdxdw",
        "outputId": "1c525264-4085-460e-9528-4760775a5a4e"
      },
      "source": [
        "'''\r\n",
        "To answer the question c) Two or fewer of the LED bulbs are defective? we need \r\n",
        "to calculate cumulative probability of Upto Two LED bulbs being defective\r\n",
        "'''\r\n",
        "\r\n",
        "cumbinomial = stats.binom.cdf(k,n,p)\r\n",
        "print(cumbinomial)"
      ],
      "execution_count": 27,
      "outputs": [
        {
          "output_type": "stream",
          "text": [
            "[0.59873694 0.91386164 0.98849644 0.9989715  0.99993631 0.99999725\n",
            " 0.99999992 1.         1.         1.         1.        ]\n"
          ],
          "name": "stdout"
        }
      ]
    },
    {
      "cell_type": "code",
      "metadata": {
        "colab": {
          "base_uri": "https://localhost:8080/"
        },
        "id": "VB5-GwSjeGSW",
        "outputId": "d9d6329b-908b-493e-f2a0-d70494481af0"
      },
      "source": [
        "print('c) Two or fewer of the LED bulbs are defective? is %1.4f' %cumbinomial[2])"
      ],
      "execution_count": 28,
      "outputs": [
        {
          "output_type": "stream",
          "text": [
            "c) Two or fewer of the LED bulbs are defective? is 0.9885\n"
          ],
          "name": "stdout"
        }
      ]
    },
    {
      "cell_type": "code",
      "metadata": {
        "colab": {
          "base_uri": "https://localhost:8080/"
        },
        "id": "6v1ahgJpeKuT",
        "outputId": "79b1bba4-3932-4750-ed1a-3559bf1f5806"
      },
      "source": [
        "'''\r\n",
        "To answer the question d) Three or more of the LED bulbs are defective, we need \r\n",
        "to subtract cumulative Probability upto 2 defective LED bulbs from 1.\r\n",
        "'''\r\n",
        "P = 1-cumbinomial[2]\r\n",
        "print('d) Three or more of the LED bulbs are defective is %1.4f' % P)"
      ],
      "execution_count": 29,
      "outputs": [
        {
          "output_type": "stream",
          "text": [
            "d) Three or more of the LED bulbs are defective is 0.0115\n"
          ],
          "name": "stdout"
        }
      ]
    },
    {
      "cell_type": "code",
      "metadata": {
        "colab": {
          "base_uri": "https://localhost:8080/",
          "height": 295
        },
        "id": "Pr1NQfR4ebb0",
        "outputId": "a913ed47-4443-4824-eedc-eec77818dfe6"
      },
      "source": [
        "plt.plot(k,binomial, 'o-')\r\n",
        "plt.title('Binomial')\r\n",
        "plt.xlabel('Number of Def LED bulbs')\r\n",
        "plt.ylabel('Prob of defective LED bulbs')\r\n",
        "plt.show()"
      ],
      "execution_count": 30,
      "outputs": [
        {
          "output_type": "display_data",
          "data": {
            "image/png": "[encoded data removed]",
            "text/plain": [
              "<Figure size 432x288 with 1 Axes>"
            ]
          },
          "metadata": {
            "tags": [],
            "needs_background": "light"
          }
        }
      ]
    },
    {
      "cell_type": "code",
      "metadata": {
        "colab": {
          "base_uri": "https://localhost:8080/"
        },
        "id": "M1UFZyUlgrRa",
        "outputId": "c29dd46f-0226-4bab-9f3f-b3cbf37a78a2"
      },
      "source": [
        "'''\r\n",
        "Example 2\r\n",
        "The percentage of orders filled correctly at Wendy's was approximately 86.8%. \r\n",
        "Suppose that you go to drive-through window at Wendy's and place an order. Two \r\n",
        "friends of yours independently place orders at the drive-through window at the \r\n",
        "same Wendy's.\r\n",
        "\r\n",
        "What are the probabilities that\r\n",
        "\r\n",
        "a) all three\r\n",
        "b) none of the three\r\n",
        "c) atleast two of the three orders will be filled correctly?\r\n",
        "d) what is the mean and standard deviation of the orders filled correctly?\r\n",
        "'''\r\n",
        "p   =  0.868 # percentage of orders filled correctly at Wendy's was approximately 86.8%\r\n",
        "n   =  3\r\n",
        "k   =  np.arange(0,4)\r\n",
        "\r\n",
        "binomial = stats.binom.pmf(k,n,p)\r\n",
        "binomial"
      ],
      "execution_count": 31,
      "outputs": [
        {
          "output_type": "execute_result",
          "data": {
            "text/plain": [
              "array([0.00229997, 0.0453721 , 0.2983559 , 0.65397203])"
            ]
          },
          "metadata": {
            "tags": []
          },
          "execution_count": 31
        }
      ]
    },
    {
      "cell_type": "code",
      "metadata": {
        "colab": {
          "base_uri": "https://localhost:8080/"
        },
        "id": "Qf8IgAYdhZ5h",
        "outputId": "52783b91-ec80-4520-9301-4f25419c9a07"
      },
      "source": [
        "print('a) all the three orders are filled correctly? is %1.4f' %binomial[3])"
      ],
      "execution_count": 32,
      "outputs": [
        {
          "output_type": "stream",
          "text": [
            "a) all the three orders are filled correctly? is 0.6540\n"
          ],
          "name": "stdout"
        }
      ]
    },
    {
      "cell_type": "code",
      "metadata": {
        "colab": {
          "base_uri": "https://localhost:8080/"
        },
        "id": "jR27eN2FhfNq",
        "outputId": "0413e430-b903-4c62-fdef-78631310ab18"
      },
      "source": [
        "print('b) none of the three orders are filled correctly? is %1.4f' %binomial[0])"
      ],
      "execution_count": 33,
      "outputs": [
        {
          "output_type": "stream",
          "text": [
            "b) none of the three orders are filled correctly? is 0.0023\n"
          ],
          "name": "stdout"
        }
      ]
    },
    {
      "cell_type": "code",
      "metadata": {
        "colab": {
          "base_uri": "https://localhost:8080/"
        },
        "id": "oioSQxGChppR",
        "outputId": "0cd60bf5-e0f7-4542-965f-2bd8a1848fce"
      },
      "source": [
        "'''\r\n",
        "To answer this question c) atleast two of the three orders are filled \r\n",
        "correctly, we need to find out 1 - Probability of upto 1 failure\r\n",
        "'''\r\n",
        "cumbinomial = stats.binom.cdf(k,n,p)\r\n",
        "cumbinomial"
      ],
      "execution_count": 34,
      "outputs": [
        {
          "output_type": "execute_result",
          "data": {
            "text/plain": [
              "array([0.00229997, 0.04767206, 0.34602797, 1.        ])"
            ]
          },
          "metadata": {
            "tags": []
          },
          "execution_count": 34
        }
      ]
    },
    {
      "cell_type": "code",
      "metadata": {
        "colab": {
          "base_uri": "https://localhost:8080/"
        },
        "id": "P2PlpR2Ni5Hp",
        "outputId": "687d3398-2bdb-4df9-cdda-4bfaff2be1fd"
      },
      "source": [
        "P = 1-cumbinomial[1]\r\n",
        "print('c) atleast two of the three orders are filled correctly? is %1.4f' % P)\r\n"
      ],
      "execution_count": 35,
      "outputs": [
        {
          "output_type": "stream",
          "text": [
            "c) atleast two of the three orders are filled correctly? is 0.9523\n"
          ],
          "name": "stdout"
        }
      ]
    },
    {
      "cell_type": "code",
      "metadata": {
        "colab": {
          "base_uri": "https://localhost:8080/"
        },
        "id": "YNalihWTjJeU",
        "outputId": "79f6bd04-ccc7-444b-ad7f-6134b9154fe9"
      },
      "source": [
        "# d) what is the mean and standard deviation of the orders filled correctly?\r\n",
        "p = .868\r\n",
        "n = 3\r\n",
        "mean = n*p\r\n",
        "std = np.sqrt(n*p*(1-p))\r\n",
        "print('mean and standard deviation of the orders filled correctly are %1.4f \\\r\n",
        "and  %1.4f respectively' % (mean, std))"
      ],
      "execution_count": 36,
      "outputs": [
        {
          "output_type": "stream",
          "text": [
            "mean and standard deviation of the orders filled correctly are 2.6040 and  0.5863 respectively\n"
          ],
          "name": "stdout"
        }
      ]
    },
    {
      "cell_type": "code",
      "metadata": {
        "colab": {
          "base_uri": "https://localhost:8080/",
          "height": 295
        },
        "id": "Tifkv8LZjVpq",
        "outputId": "8cd83da0-c73e-42a9-d456-9d9389a427fa"
      },
      "source": [
        "plt.plot(k,binomial, 'o-')\r\n",
        "plt.title('Binomial')\r\n",
        "plt.xlabel('Number of orders filled correctly')\r\n",
        "plt.ylabel('Prob of orders filled correctly')\r\n",
        "plt.show()"
      ],
      "execution_count": 37,
      "outputs": [
        {
          "output_type": "display_data",
          "data": {
            "image/png": "[encoded data removed]",
            "text/plain": [
              "<Figure size 432x288 with 1 Axes>"
            ]
          },
          "metadata": {
            "tags": [],
            "needs_background": "light"
          }
        }
      ]
    },
    {
      "cell_type": "code",
      "metadata": {
        "colab": {
          "base_uri": "https://localhost:8080/"
        },
        "id": "ZPyJth4ukc--",
        "outputId": "87bed563-fc57-4e86-c29e-9cbd1c9f9110"
      },
      "source": [
        "'''\r\n",
        "Practice Exercise 1\r\n",
        "You and your two friends go to Pizza Hut which recently filled approximately \r\n",
        "88.3% of the orders correctly. What is the probability that\r\n",
        "\r\n",
        "a. all three orders will be filled correctly?\r\n",
        "b. none of orders will be filled correctly?\r\n",
        "c. at least two of three orders will be filled correctly?\r\n",
        "d. What are the mean and standard deviation of the orders filled correctly?\r\n",
        "Hint: Mean and standard deviation of binomial distribution:\r\n",
        "'''\r\n",
        "p   =  0.883 # percentage of orders filled correctly at Wendy's was approximately 86.8%\r\n",
        "n   =  3\r\n",
        "k   =  np.arange(0,4)\r\n",
        "\r\n",
        "binomial = stats.binom.pmf(k,n,p)\r\n",
        "\r\n",
        "print(\"a: %1.4f\"%binomial[3])\r\n",
        "print('b: %1.4f'%binomial[0])\r\n",
        "\r\n",
        "cumbinomial = stats.binom.cdf(k,n,p)\r\n",
        "\r\n",
        "print('c: %1.4f'%(1-cumbinomial[1]))\r\n",
        "print('d:', f'mean = {n*p}', f',std = {round(np.sqrt(n * p * (1 - p)), 4)}')"
      ],
      "execution_count": 38,
      "outputs": [
        {
          "output_type": "stream",
          "text": [
            "a: 0.6885\n",
            "b: 0.0016\n",
            "c: 0.9621\n",
            "d: mean = 2.649 ,std = 0.5567\n"
          ],
          "name": "stdout"
        }
      ]
    },
    {
      "cell_type": "code",
      "metadata": {
        "colab": {
          "base_uri": "https://localhost:8080/"
        },
        "id": "tk91ifInlUcT",
        "outputId": "5494c166-1d28-4bed-c0d9-f7a9997cec02"
      },
      "source": [
        "rate  = 2.5\r\n",
        "n = np.arange(0,20)\r\n",
        "poisson = stats.poisson.pmf(n, rate)\r\n",
        "poisson "
      ],
      "execution_count": 39,
      "outputs": [
        {
          "output_type": "execute_result",
          "data": {
            "text/plain": [
              "array([8.20849986e-02, 2.05212497e-01, 2.56515621e-01, 2.13763017e-01,\n",
              "       1.33601886e-01, 6.68009429e-02, 2.78337262e-02, 9.94061650e-03,\n",
              "       3.10644266e-03, 8.62900738e-04, 2.15725184e-04, 4.90284510e-05,\n",
              "       1.02142606e-05, 1.96428089e-06, 3.50764445e-07, 5.84607408e-08,\n",
              "       9.13449075e-09, 1.34330746e-09, 1.86570481e-10, 2.45487475e-11])"
            ]
          },
          "metadata": {
            "tags": []
          },
          "execution_count": 39
        }
      ]
    },
    {
      "cell_type": "code",
      "metadata": {
        "colab": {
          "base_uri": "https://localhost:8080/"
        },
        "id": "kob5jwJeTFV4",
        "outputId": "8cadba86-d0c3-4bb9-86aa-c13140261566"
      },
      "source": [
        "print(f\"a: possibility of no work related injury is {round(poisson[0], 4)}\")\r\n",
        "print(f\"b: possibility of 1 work related injury is {round(1-poisson[0], 4)}\")"
      ],
      "execution_count": 40,
      "outputs": [
        {
          "output_type": "stream",
          "text": [
            "a: possibility of no work related injury is 0.0821\n",
            "b: possibility of 1 work related injury is 0.9179\n"
          ],
          "name": "stdout"
        }
      ]
    },
    {
      "cell_type": "code",
      "metadata": {
        "colab": {
          "base_uri": "https://localhost:8080/",
          "height": 295
        },
        "id": "0HEySfXSTqoa",
        "outputId": "be80e988-9252-49b0-d74d-f3ea5db05cac"
      },
      "source": [
        "plt.plot(n,poisson, 'o-')\r\n",
        "plt.title('Poisson Chart')\r\n",
        "plt.xlabel('Number of Work related injuries')\r\n",
        "plt.ylabel('Probability of Work related injuries')\r\n",
        "plt.show();"
      ],
      "execution_count": 41,
      "outputs": [
        {
          "output_type": "display_data",
          "data": {
            "image/png": "[encoded data removed]",
            "text/plain": [
              "<Figure size 432x288 with 1 Axes>"
            ]
          },
          "metadata": {
            "tags": [],
            "needs_background": "light"
          }
        }
      ]
    },
    {
      "cell_type": "code",
      "metadata": {
        "colab": {
          "base_uri": "https://localhost:8080/"
        },
        "id": "BfnziQwSV2sb",
        "outputId": "79625999-c0a9-4528-bc3b-fc7a48f5858a"
      },
      "source": [
        "rate = 3\r\n",
        "n = np.arange(0,16)\r\n",
        "cumpoisson = stats.poisson.cdf(n, rate)\r\n",
        "cumpoisson"
      ],
      "execution_count": 42,
      "outputs": [
        {
          "output_type": "execute_result",
          "data": {
            "text/plain": [
              "array([0.04978707, 0.19914827, 0.42319008, 0.64723189, 0.81526324,\n",
              "       0.91608206, 0.96649146, 0.9880955 , 0.99619701, 0.99889751,\n",
              "       0.99970766, 0.99992861, 0.99998385, 0.9999966 , 0.99999933,\n",
              "       0.99999988])"
            ]
          },
          "metadata": {
            "tags": []
          },
          "execution_count": 42
        }
      ]
    },
    {
      "cell_type": "code",
      "metadata": {
        "colab": {
          "base_uri": "https://localhost:8080/"
        },
        "id": "-LYXXQe9WPbb",
        "outputId": "b3fce126-5065-458c-9d7f-76325eed1671"
      },
      "source": [
        "# P = probability that the agent sells some policies\r\n",
        "P = 1-cumpoisson[0]\r\n",
        "print('a. Probability that the agent sells some policies is:  %1.4f'%P)"
      ],
      "execution_count": 43,
      "outputs": [
        {
          "output_type": "stream",
          "text": [
            "a. Probability that the agent sells some policies is:  0.9502\n"
          ],
          "name": "stdout"
        }
      ]
    },
    {
      "cell_type": "code",
      "metadata": {
        "colab": {
          "base_uri": "https://localhost:8080/"
        },
        "id": "zynfzEWqWjVy",
        "outputId": "0b31e64f-e0bf-4bb0-a0bf-dc34afb6ef90"
      },
      "source": [
        "# Let P1 be the probability that the agent sells more than 4 policies\r\n",
        "P1 = cumpoisson[4] # P(X>=4)\r\n",
        "# Let P2 be the probability that the agent sells more than 1 policy\r\n",
        "P2 = cumpoisson[1] # P(X >=1)\r\n",
        "P = P1-P2 # Prob. that the agent will sell between 2 and 5 policies\r\n",
        "print(\"b. probability that the agent sells between 2 and 5 policies is: %1.4f\"%P)"
      ],
      "execution_count": 44,
      "outputs": [
        {
          "output_type": "stream",
          "text": [
            "b. probability that the agent sells between 2 and 5 policies is: 0.6161\n"
          ],
          "name": "stdout"
        }
      ]
    },
    {
      "cell_type": "code",
      "metadata": {
        "colab": {
          "base_uri": "https://localhost:8080/",
          "height": 295
        },
        "id": "DGL-bRCeXqpD",
        "outputId": "5874315c-22a9-47a4-856c-5916c80077fe"
      },
      "source": [
        "poisson = stats.poisson.pmf(n, rate)\r\n",
        "plt.plot(n, poisson, 'o-')\r\n",
        "plt.title('Poisson')\r\n",
        "plt.xlabel('Number of policies sold per week')\r\n",
        "plt.ylabel('Cumilitive prob of policies sold per week')\r\n",
        "plt.show();\r\n"
      ],
      "execution_count": 45,
      "outputs": [
        {
          "output_type": "display_data",
          "data": {
            "image/png": "[encoded data removed]",
            "text/plain": [
              "<Figure size 432x288 with 1 Axes>"
            ]
          },
          "metadata": {
            "tags": [],
            "needs_background": "light"
          }
        }
      ]
    },
    {
      "cell_type": "code",
      "metadata": {
        "colab": {
          "base_uri": "https://localhost:8080/"
        },
        "id": "ld2ySTqjcH5C",
        "outputId": "d076b250-e5a4-4b4e-94ae-2e2ffdf00e15"
      },
      "source": [
        "'''\r\n",
        "Refer to Example 4. What is the probability that the Agent will sell\r\n",
        "\r\n",
        "a. At least 4 policies\r\n",
        "b. Exactly 4 policies\r\n",
        "'''\r\n",
        "\r\n",
        "P3 = cumpoisson[4]\r\n",
        "P4 = cumpoisson[5]-cumpoisson[3]\r\n",
        "print('a.The probability that the Agent will sell at least 4 policies is : %1.4f' % P3)\r\n",
        "print('b.The probability that the Agent will sell exactly 4 policies is : %1.4f' % P4)"
      ],
      "execution_count": 46,
      "outputs": [
        {
          "output_type": "stream",
          "text": [
            "a.The probability that the Agent will sell at least 4 policies is : 0.8153\n",
            "b.The probability that the Agent will sell exactly 4 policies is : 0.2689\n"
          ],
          "name": "stdout"
        }
      ]
    },
    {
      "cell_type": "code",
      "metadata": {
        "colab": {
          "base_uri": "https://localhost:8080/"
        },
        "id": "MaobXgGY2C-N",
        "outputId": "54adadc5-0731-4f3b-8cd5-8f55119877e6"
      },
      "source": [
        "'''\r\n",
        "A survey on use of smart phones in India was conducted and it is observed the \r\n",
        "smart phone users spend 68 minutes in a day on average in sending messages and \r\n",
        "the corresponding standard deviation is 12 minutes.\r\n",
        "\r\n",
        "Assume that the time spent in sending messages follows a normal distribution.\r\n",
        "a) What proportion of the smart phone users are spending more than 90 minutes \r\n",
        "in sending messages daily?\r\n",
        "b) What proportion of customers are spending less than 20 minutes?\r\n",
        "c) What proportion of customers are spending between 50 minutes and 100 minutes?\r\n",
        "'''\r\n",
        "\r\n",
        "mu = 68 # minutes\r\n",
        "sigma = 12\r\n",
        "\r\n",
        "z = (90 - mu) / sigma # x = 90\r\n",
        "P = 1 - stats.norm.cdf(z)\r\n",
        "print(' a. Proportion of the smart phone users are spending more than 90 minutes in sending messages daily is %1.4f' % P)\r\n"
      ],
      "execution_count": 47,
      "outputs": [
        {
          "output_type": "stream",
          "text": [
            " a. Proportion of the smart phone users are spending more than 90 minutes in sending messages daily is 0.0334\n"
          ],
          "name": "stdout"
        }
      ]
    },
    {
      "cell_type": "code",
      "metadata": {
        "colab": {
          "base_uri": "https://localhost:8080/"
        },
        "id": "-MguzkEHAo6E",
        "outputId": "58bdad7d-f34b-4ab5-9db5-8cd24d28f2eb"
      },
      "source": [
        "z1 = (20-mu) / sigma # x = 20\r\n",
        "P = stats.norm.cdf(z1)\r\n",
        "print(' b) What proportion of customers are spending less than 20 minutes is %1.7f' % P)"
      ],
      "execution_count": 48,
      "outputs": [
        {
          "output_type": "stream",
          "text": [
            " b) What proportion of customers are spending less than 20 minutes is 0.0000317\n"
          ],
          "name": "stdout"
        }
      ]
    },
    {
      "cell_type": "code",
      "metadata": {
        "colab": {
          "base_uri": "https://localhost:8080/"
        },
        "id": "Vlcw-CjrBCUM",
        "outputId": "af11c44b-8b42-4875-bcab-1e33f1293436"
      },
      "source": [
        "z1 = (50-mu) / sigma # x = 50\r\n",
        "z2 = (100-mu) / sigma # x = 100\r\n",
        "P1 = stats.norm.cdf(z1)\r\n",
        "P2 = stats.norm.cdf(z2)\r\n",
        "P = P2 - P1\r\n",
        "print(' c) proportion of customers are spending between 50 minutes and 100 minutes is %1.4f' % P)"
      ],
      "execution_count": 49,
      "outputs": [
        {
          "output_type": "stream",
          "text": [
            " c) proportion of customers are spending between 50 minutes and 100 minutes is 0.9294\n"
          ],
          "name": "stdout"
        }
      ]
    },
    {
      "cell_type": "code",
      "metadata": {
        "colab": {
          "base_uri": "https://localhost:8080/"
        },
        "id": "nmfcFQXABly3",
        "outputId": "b853198c-62b5-46c8-f2a5-d5355522e601"
      },
      "source": [
        "'''\r\n",
        "Example 6\r\n",
        "The mean salaries of Data Scientists working in Chennai, India is calculated to \r\n",
        "be 7,00,000 INR with a standard deviation of 90,000 INR. The random variable \r\n",
        "salary of Data Scientists follows a normal distribution.\r\n",
        "\r\n",
        "a) What is the probability that a Data Scientist in Chennai has a salary more \r\n",
        "than 10,00,000 INR?\r\n",
        "b) What is the probability that a Data Scientist in Chennai has a salary between \r\n",
        "6,00,000 & 9,00,000 INR?\r\n",
        "c) What is the probability that a Data Scientist in Chennai has a salary less \r\n",
        "than 4,00,000 INR?\r\n",
        "'''\r\n",
        "mu = 700000\r\n",
        "sigma = 90000\r\n",
        "z = (1000000-mu) / sigma\r\n",
        "P = 1-stats.norm.cdf(z)\r\n",
        "print(' a) Probability that a Data Scientist in Chennai has a salary more than 10,00,000 is %1.4f' % P)"
      ],
      "execution_count": 50,
      "outputs": [
        {
          "output_type": "stream",
          "text": [
            " a) Probability that a Data Scientist in Chennai has a salary more than 10,00,000 is 0.0004\n"
          ],
          "name": "stdout"
        }
      ]
    },
    {
      "cell_type": "code",
      "metadata": {
        "colab": {
          "base_uri": "https://localhost:8080/"
        },
        "id": "nWF_Z0n7Dz2W",
        "outputId": "caa96916-784d-4bb6-c541-8d15f7cbbe60"
      },
      "source": [
        "z1 = (600000-mu) / sigma\r\n",
        "z2 = (900000-mu) / sigma\r\n",
        "P = stats.norm.cdf(z2) - stats.norm.cdf(z1)\r\n",
        "print(' b) probability that a Data Scientist in Chennai has a salary between 6,00,000 & 9,00,000 INR is %1.4f' % P)\r\n"
      ],
      "execution_count": 51,
      "outputs": [
        {
          "output_type": "stream",
          "text": [
            " b) probability that a Data Scientist in Chennai has a salary between 6,00,000 & 9,00,000 INR is 0.8536\n"
          ],
          "name": "stdout"
        }
      ]
    },
    {
      "cell_type": "code",
      "metadata": {
        "colab": {
          "base_uri": "https://localhost:8080/"
        },
        "id": "bJpm0upkERSX",
        "outputId": "e90005c2-f1dd-4a4d-a780-a01ca5b1b0b6"
      },
      "source": [
        "z = (400000-mu) / sigma\r\n",
        "P = stats.norm.cdf(z)\r\n",
        "print(' c) Probability that a Data Scientist in Chennai has a salary less than 4,00,000 INR is %1.4f' % P)\r\n"
      ],
      "execution_count": 52,
      "outputs": [
        {
          "output_type": "stream",
          "text": [
            " c) Probability that a Data Scientist in Chennai has a salary less than 4,00,000 INR is 0.0004\n"
          ],
          "name": "stdout"
        }
      ]
    },
    {
      "cell_type": "code",
      "metadata": {
        "colab": {
          "base_uri": "https://localhost:8080/"
        },
        "id": "gxmkMvXEEjWU",
        "outputId": "2bad87b5-cb28-47b0-9482-3ae6881cd82c"
      },
      "source": [
        "'''\r\n",
        "Example 7\r\n",
        "The fill amount in 2-liter soft drink bottles is normally distributed, with a \r\n",
        "mean of 2.0 liters and a standard deviation of 0.05 liter. If the bottles \r\n",
        "contain less than 95% of the listed net content (1.90 liters, in our case), the \r\n",
        "manufacturer may be subject to penalty by the state office of consumer affairs. \r\n",
        "Bottles that have a net content above 2.1 liters may cause excess spillage upon \r\n",
        "opening. What is the proportion of bottles that will contain\r\n",
        "\r\n",
        "a) between 1.9 and 2.0 liters\r\n",
        "b) between 1.9 and 2.1 liters\r\n",
        "c) below 1.9 liters or above 2.1 liters\r\n",
        "d) At least how much soft drink is contained in 99% of the bottles?\r\n",
        "'''\r\n",
        "mu = 2\r\n",
        "sigma = 0.05\r\n",
        "# a. between 1.9 and 2.0 liters\r\n",
        "x1 = 1.9\r\n",
        "z1 = (x1 - mu) / sigma\r\n",
        "print('Z value for 1.9 liter is %3.4f'%z1)"
      ],
      "execution_count": 53,
      "outputs": [
        {
          "output_type": "stream",
          "text": [
            "Z value for 1.9 liter is -2.0000\n"
          ],
          "name": "stdout"
        }
      ]
    },
    {
      "cell_type": "code",
      "metadata": {
        "colab": {
          "base_uri": "https://localhost:8080/"
        },
        "id": "6JtPiQBlFmip",
        "outputId": "a8a462b3-a1ea-419c-916b-1b5f47cd9728"
      },
      "source": [
        "x2 = 2\r\n",
        "z2 = (x2 - mu) / sigma\r\n",
        "print('Z value for 2 liters is %3.4f' % z2)"
      ],
      "execution_count": 54,
      "outputs": [
        {
          "output_type": "stream",
          "text": [
            "Z value for 2 liters is 0.0000\n"
          ],
          "name": "stdout"
        }
      ]
    },
    {
      "cell_type": "code",
      "metadata": {
        "colab": {
          "base_uri": "https://localhost:8080/"
        },
        "id": "v_dYgJLIF3-P",
        "outputId": "023c1987-76f3-44ff-cee6-67b756d7ca11"
      },
      "source": [
        "P = stats.norm.cdf(z2) - stats.norm.cdf(z1)\r\n",
        "print('a. proportion of bottles between 1.9 and 2.0 liters is %3.4f'%P)"
      ],
      "execution_count": 55,
      "outputs": [
        {
          "output_type": "stream",
          "text": [
            "a. proportion of bottles between 1.9 and 2.0 liters is 0.4772\n"
          ],
          "name": "stdout"
        }
      ]
    },
    {
      "cell_type": "code",
      "metadata": {
        "colab": {
          "base_uri": "https://localhost:8080/"
        },
        "id": "LwXix1kgGSPg",
        "outputId": "664c955d-33ba-4cd2-e19a-025bb4580d19"
      },
      "source": [
        "# b) between 1.9 and 2.1 liters\r\n",
        "x3 = 2.1\r\n",
        "z3 = (x3 - mu) / sigma\r\n",
        "print('Z value for 2.1 liters is %3.4f' % z3)"
      ],
      "execution_count": 56,
      "outputs": [
        {
          "output_type": "stream",
          "text": [
            "Z value for 2.1 liters is 2.0000\n"
          ],
          "name": "stdout"
        }
      ]
    },
    {
      "cell_type": "code",
      "metadata": {
        "colab": {
          "base_uri": "https://localhost:8080/"
        },
        "id": "rgE0otX4GxZq",
        "outputId": "c483b6e2-5734-450d-82e1-6c15449ef62d"
      },
      "source": [
        "P = stats.norm.cdf(z3) - stats.norm.cdf(z1)\r\n",
        "print('b. proportion of bottles between 1.9 and 2.1 liter %3.4f'%P)"
      ],
      "execution_count": 57,
      "outputs": [
        {
          "output_type": "stream",
          "text": [
            "b. proportion of bottles between 1.9 and 2.1 liter 0.9545\n"
          ],
          "name": "stdout"
        }
      ]
    },
    {
      "cell_type": "code",
      "metadata": {
        "colab": {
          "base_uri": "https://localhost:8080/"
        },
        "id": "tJKtCHBAHNYR",
        "outputId": "4dbeb1eb-246b-4bc9-8d7b-2297c7050691"
      },
      "source": [
        "# c. below 1.9 liters or above 2.1 liters\r\n",
        "P1 = stats.norm.cdf(z1)\r\n",
        "P2 = 1 - stats.norm.cdf(z3)\r\n",
        "print('c. below 1.9 liters or above 2.1 liters is %3.4f' %(P1+P2))"
      ],
      "execution_count": 58,
      "outputs": [
        {
          "output_type": "stream",
          "text": [
            "c. below 1.9 liters or above 2.1 liters is 0.0455\n"
          ],
          "name": "stdout"
        }
      ]
    },
    {
      "cell_type": "code",
      "metadata": {
        "colab": {
          "base_uri": "https://localhost:8080/"
        },
        "id": "jYtzSEDlHo0j",
        "outputId": "363c7b29-9987-4352-a142-36d9a3daebb2"
      },
      "source": [
        "# d) At least how much soft drink is contained in 99% of the bottles?¶\r\n",
        "# here we need to find the volume \r\n",
        "P = stats.norm.isf(q = 0.99, loc = mu, scale = sigma)\r\n",
        "print('d.At least how much soft drink is contained in 99 percent of the bottles is %4.4f liters'% P)"
      ],
      "execution_count": 59,
      "outputs": [
        {
          "output_type": "stream",
          "text": [
            "d.At least how much soft drink is contained in 99 percent of the bottles is 1.8837 liters\n"
          ],
          "name": "stdout"
        }
      ]
    },
    {
      "cell_type": "code",
      "metadata": {
        "colab": {
          "base_uri": "https://localhost:8080/"
        },
        "id": "whrPwdGSIUWk",
        "outputId": "2b56743e-ffd8-4da4-a5bf-4d05b0a150df"
      },
      "source": [
        "'''Practice Exercise 3\r\n",
        "The following table contains the overall miles per Gallon (MPG) of 2017 small \r\n",
        "SUVs ( n =40).\r\n",
        "\r\n",
        "Decide whether the data appears to be normally distributed by\r\n",
        "a. Mean and median\r\n",
        "'''\r\n",
        "mpg = np.array([19, 20, 20, 20, 21, 19, 21, 19, 21, 20, 20, 20, 19, 21, 21, 22, 20, 22, 20, 20, 22, 20, 22, 21, 19,\r\n",
        "                             19, 20, 20, 21, 20, 19, 18, 20, 21, 21, 20, 21, 21, 20,  21])\r\n",
        "print(mpg)"
      ],
      "execution_count": 60,
      "outputs": [
        {
          "output_type": "stream",
          "text": [
            "[19 20 20 20 21 19 21 19 21 20 20 20 19 21 21 22 20 22 20 20 22 20 22 21\n",
            " 19 19 20 20 21 20 19 18 20 21 21 20 21 21 20 21]\n"
          ],
          "name": "stdout"
        }
      ]
    },
    {
      "cell_type": "code",
      "metadata": {
        "colab": {
          "base_uri": "https://localhost:8080/",
          "height": 265
        },
        "id": "-hi-AIaGJBZU",
        "outputId": "e5c4aee7-e51e-48b7-d1e7-e8930d77c67a"
      },
      "source": [
        "fig, ax = plt.subplots()\r\n",
        "pd.DataFrame(mpg).plot.kde(ax = ax, legend = False)\r\n",
        "pd.DataFrame(mpg).plot.hist(density = True, ax = ax)\r\n",
        "plt.show()"
      ],
      "execution_count": 61,
      "outputs": [
        {
          "output_type": "display_data",
          "data": {
            "image/png": "[encoded data removed]",
            "text/plain": [
              "<Figure size 432x288 with 1 Axes>"
            ]
          },
          "metadata": {
            "tags": [],
            "needs_background": "light"
          }
        }
      ]
    },
    {
      "cell_type": "code",
      "metadata": {
        "id": "4Kvj3X6RJl8y"
      },
      "source": [
        "'''\r\n",
        "Practice Exercise 4\r\n",
        "The mean weight of a morning breakfast cereal pack is 0.295 kg with a standard \r\n",
        "deviation of 0.025 kg. The random variable weight of the pack follows a normal \r\n",
        "distribution.\r\n",
        "\r\n",
        "a. What is the probability that the pack weighs less than 0.280 kg?\r\n",
        "b. What is the probability that the pack weighs more than 0.350 kg?\r\n",
        "c. What is the probability that the pack weighs between 0.260 kg to 0.340 kg?\r\n",
        "'''\r\n"
      ],
      "execution_count": null,
      "outputs": []
    },
    {
      "cell_type": "code",
      "metadata": {
        "id": "qjffUXUCLI5m"
      },
      "source": [
        "'''\r\n",
        "Take home exercises\r\n",
        "1. If X is a random variable that follows normal distribution, then 5X + 40 is a\r\n",
        "\r\n",
        "a. Chi-square distribution\r\n",
        "b. Poisson distribution\r\n",
        "c. Binomial distribution\r\n",
        "d. Normal distribution\r\n",
        "\r\n",
        "2. The number of warranty claims received at an Electronic equipment \r\n",
        "manufacturer follows a Poisson distribution with a rate of 10 per day. \r\n",
        "Calculate the following:\r\n",
        "\r\n",
        "a. The probability that the warranty claims is below 5 on a given day.\r\n",
        "b. The probability that the warranty claims will exceed 10 on a given day.\r\n",
        "\r\n",
        "3. Refer to example 7. What is the proportion of bottles that will contain\r\n",
        "a) below 1.96 liters or above 2.2 liters\r\n",
        "b) At least how much soft drink is contained in 90% of the bottles?\r\n",
        "'''"
      ],
      "execution_count": null,
      "outputs": []
    }
  ]
}